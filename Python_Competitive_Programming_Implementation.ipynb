{
 "cells": [
  {
   "cell_type": "markdown",
   "metadata": {},
   "source": [
    "# Python_Competitive_Programming\n",
    "\n",
    "- https://www.youtube.com/watch?v=puH2p1CQEg4&list=PLVsNizTWUw7H9_of5YCB0FmsSc-K44y81&index=14"
   ]
  },
  {
   "cell_type": "markdown",
   "metadata": {},
   "source": [
    "---"
   ]
  },
  {
   "cell_type": "markdown",
   "metadata": {},
   "source": [
    "## Implementation (구현)\n",
    "\n",
    "구현이란, 알고리즘을 src 코드로 바꾸는 과정입니다. ( problem > thinking > solution )\n",
    "\n",
    "- 풀이를 떠올리는 것은 쉽지만, 소스코드로 옮기기 어려운 문제\n",
    "\n",
    "\n",
    "- 구현 유형\n",
    "\n",
    "    1. 코드가 지나키게 길어지는 문제\n",
    "    \n",
    "    2. 실수 연산을 다루고, 특정 소수점 자리 까지 처리\n",
    "    \n",
    "    3. 문자열을 특정 기준에 따라서 끊어 처리\n",
    "    \n",
    "    4. 적절한 라이브러리를 찾아서 처리"
   ]
  },
  {
   "cell_type": "markdown",
   "metadata": {},
   "source": [
    "---"
   ]
  },
  {
   "cell_type": "markdown",
   "metadata": {},
   "source": [
    "## 2차원 공간 처리\n",
    "\n",
    "\n",
    "- 일반적인 알고리즘 문제에서의 2차원 공간은 **행렬(Matrix)** 의 의미로 사용됩니다. \n",
    " \n",
    "\n",
    "- Python 에서 **행렬(Matrix)**  2D list (2차원 리스트) 로 구현 \n",
    "\n",
    "\n",
    "- 시뮬레이션 및 완전 탐색 문제에서는 **2차원 공간에서의 방향 벡터**가 자주 사용됩니다.\n",
    "\n"
   ]
  },
  {
   "cell_type": "code",
   "execution_count": null,
   "metadata": {},
   "outputs": [],
   "source": [
    "# Matrix\n",
    "\n",
    "for i in range(5):\n",
    "    for j in range(5):\n",
    "        print('(', i, ',', j, ')', end = ' ')\n",
    "    print()"
   ]
  },
  {
   "cell_type": "code",
   "execution_count": null,
   "metadata": {},
   "outputs": [],
   "source": [
    "# d_vector\n",
    "\n",
    "# 동 서 남 북\n",
    "dx = [0,0,1,-1]\n",
    "dy = [1,-1,0,0]\n",
    "\n",
    "# 현재 위치\n",
    "\n",
    "x,y = 2, 2\n",
    "\n",
    "for i in range(4):\n",
    "    \n",
    "    nx = x + dx[i] # 행 이동\n",
    "    ny = y + dy[i] # 열 이동\n",
    "    \n",
    "    print(nx,ny)\n",
    "\n"
   ]
  },
  {
   "cell_type": "markdown",
   "metadata": {},
   "source": [
    "---"
   ]
  },
  {
   "cell_type": "markdown",
   "metadata": {},
   "source": [
    "## <문제> 상하좌우"
   ]
  },
  {
   "cell_type": "markdown",
   "metadata": {},
   "source": [
    "- 가장 왼쪽 좌표는 (1,1)이며, 가장 오른쪽 아래 좌표는 (N,N) 입니다.\n",
    "\n",
    "\n",
    "- 정사각형 공간을 벗어나는 움직임은 무시됩니다."
   ]
  },
  {
   "cell_type": "markdown",
   "metadata": {},
   "source": [
    "---"
   ]
  },
  {
   "cell_type": "markdown",
   "metadata": {},
   "source": [
    "### 해결 아이디어 - 상하좌우\n",
    "\n",
    "- 일련의 명령에 따라서 개체를 차례대로 이동시킨다는 점에서, 시뮬레이션(simulation) 유형\n",
    "\n",
    "\n",
    "- 500,100,50,10원 짜리 동전을 차례대로 거슬러 주면 됨"
   ]
  },
  {
   "cell_type": "markdown",
   "metadata": {},
   "source": [
    "---"
   ]
  },
  {
   "cell_type": "code",
   "execution_count": null,
   "metadata": {},
   "outputs": [],
   "source": [
    "\n",
    "n = int(input()) # n x n 행렬 입력받기\n",
    "\n",
    "plans = input().split() \n",
    "\n",
    "# 현재 위치 \n",
    "x, y = 1, 1\n",
    "\n",
    "# L, R, U, D에 따른 이동 방향\n",
    "\n",
    "dx = [0, 0, -1, 1]\n",
    "dy = [-1, 1, 0, 0]\n",
    "\n",
    "move_types = ['L', 'R', 'U', 'D']\n",
    "\n",
    "# 이동 계획을 하나씩 확인, 이동 후 좌표 구하기\n",
    "\n",
    "for plan in plans:\n",
    "    \n",
    "    for i in range(len(move_types)):\n",
    "        \n",
    "        if plan == move_types[i]:\n",
    "            \n",
    "            nx = x + dx[i]\n",
    "            ny = y + dy[i]\n",
    "    \n",
    "    if nx < 1 or ny < 1 or nx > n or ny > n:\n",
    "        continue # 공간을 벗어나는 경우 무시\n",
    "    \n",
    "    # 이동 위치를 현재 위치로 대입 \n",
    "    x, y = nx, ny\n",
    "    \n",
    "    print(x, y)\n",
    "\n",
    "print('result = ', x, y)"
   ]
  },
  {
   "cell_type": "markdown",
   "metadata": {},
   "source": [
    "---"
   ]
  },
  {
   "cell_type": "markdown",
   "metadata": {},
   "source": [
    "### report\n",
    "\n",
    "- if, elif 조건문을 사용하는 '경우의 수 처리' 를 하지 않고, `for in : for in range :` 문을 이용하여 목록들을 하나씩 꺼내서 처리\n",
    "\n",
    "\n",
    "    - 1. 목록 선언, 대상이 해당 목록이라면 if, elif, else 조건문 처리\n",
    "    - 2. 대상을 우선 하나 꺼내면서, 목록을 순서대로 하나씩 꺼내서, 대상 과 목록을 비교 하여 처리\n",
    "\n",
    "\n",
    "- 연산 한꺼번에 처리 후 출력, 하나씩 꺼내서 처리 하는 방식등, 여러 방식들이 있다.\n"
   ]
  },
  {
   "cell_type": "markdown",
   "metadata": {},
   "source": [
    "---"
   ]
  },
  {
   "cell_type": "markdown",
   "metadata": {},
   "source": [
    "##  <문제> 시각\n",
    "\n",
    "- 15강 구현 유형 문제 풀이\n",
    "\n",
    "정수 N 이 입력되면, 00시 00분 00초 부터 N시 59분 59초 까지의 모든 시각 중에서 3이 하나라도 포함 되는 모든 경우의 수를 구하는 프로그램을 작성\n",
    "\n",
    "00시 00분 03초\n",
    "\n",
    "000000\n",
    "\n"
   ]
  },
  {
   "cell_type": "markdown",
   "metadata": {},
   "source": [
    "---"
   ]
  },
  {
   "cell_type": "markdown",
   "metadata": {},
   "source": [
    "### 해결 아이디어 - 시각\n",
    "\n",
    "\n",
    "- 가능한 모든 시각의 경우들을 하나씩 모두 세서 풀어야 하는 **완전 탐색 (Brute Forcing)** 유형으로,\n",
    "\n",
    "\n",
    "- 단순히 시각을 1씩 증가시키면서 3이 하나라도 포함되어 있으면 카운트\n",
    "\n",
    "\n",
    "- 24시간 = 86,400 초\n",
    "\n",
    ">*Brute Forcing*\n",
    ": 가능한 경우의 수를 모두 검사하는 탐색 방법"
   ]
  },
  {
   "cell_type": "markdown",
   "metadata": {},
   "source": [
    "---"
   ]
  },
  {
   "cell_type": "code",
   "execution_count": null,
   "metadata": {},
   "outputs": [],
   "source": [
    "# H를 입력받기\n",
    "\n",
    "h = int(input())\n",
    "\n",
    "count = 0\n",
    "\n",
    "for i in range(h + 1): \n",
    "    \n",
    "    for j in range(60):\n",
    "        \n",
    "        for k in range(60):\n",
    "            \n",
    "            if '3' in str(i) + str(j) + str(k):\n",
    "                count += 1\n",
    "\n",
    "print(count)"
   ]
  },
  {
   "cell_type": "markdown",
   "metadata": {},
   "source": [
    "---"
   ]
  },
  {
   "cell_type": "markdown",
   "metadata": {},
   "source": [
    "### report\n",
    "\n",
    "\n",
    "- 시간은 일반적인 수 와 다름\n",
    "\n",
    "\n",
    "- 00시 00분 00초부터 목표 시간 까지 **시간의 흐름을 시, 분, 초 를  `for range` 임시 변수를 통해 처리**\n",
    "\n",
    "\n",
    "- `int()` to `str()` 처리를 통해 포함 관계 처리\n",
    "\n"
   ]
  },
  {
   "cell_type": "markdown",
   "metadata": {},
   "source": [
    "---"
   ]
  },
  {
   "cell_type": "markdown",
   "metadata": {},
   "source": [
    "##  <문제> 왕실의 나이트\n",
    "\n",
    "- 15강 구현 유형 문제 풀이\n",
    "\n",
    "\n",
    "나이트의 위치가 주어졌을때 나이트가 이동할 수 있는 총 경우의 수 카운트 하는 프로그램 작성\n",
    "\n",
    "\n",
    "나이트는 특정 위치에서 2가지 경우로만 이동 가능\n",
    "\n",
    "1. 수평으로 두 칸 이동한 뒤에 수직으로 한 칸 이동하기\n",
    "2. 수직으로 두 칸 이동한 뒤에 수평으로 한 칸 이동하기\n",
    "\n"
   ]
  },
  {
   "cell_type": "markdown",
   "metadata": {},
   "source": [
    "---"
   ]
  },
  {
   "cell_type": "markdown",
   "metadata": {},
   "source": [
    "### 해결 아이디어 - 왕실의 나이트\n",
    "\n",
    "- 이동가능한 8가지 방향에 대한 **방향 벡터**를 리스트로 정의\n",
    "\n",
    "\n",
    "- 2차원 공간에서 현재 위치에서 위치 이동이 가능하다면 카운트"
   ]
  },
  {
   "cell_type": "markdown",
   "metadata": {},
   "source": [
    "---"
   ]
  },
  {
   "cell_type": "code",
   "execution_count": 9,
   "metadata": {},
   "outputs": [
    {
     "name": "stdout",
     "output_type": "stream",
     "text": [
      "c2\n",
      "6\n"
     ]
    }
   ],
   "source": [
    "# 현재 나이트의 위치 입력받기\n",
    "\n",
    "input_data = input()\n",
    "\n",
    "row = int(input_data[1])\n",
    "\n",
    "column = int(ord(input_data[0])) - int(ord('a')) + 1\n",
    "\n",
    "# 나이트가 이동할 수 있는 8가지 방향 정의\n",
    "\n",
    "steps = [(-2, -1), (-1, -2), (1, -2), (2, -1), (2, 1), (1, 2), (-1, 2), (-2, 1)]\n",
    "\n",
    "# 8가지 방향에 대하여 각 위치로 이동이 가능한지 확인\n",
    "\n",
    "result = 0\n",
    "\n",
    "for step in steps:\n",
    "    \n",
    "    # 이동하고자 하는 위치 확인\n",
    "    next_row = row + step[0]\n",
    "    next_column = column + step[1]\n",
    "    \n",
    "    # 해당 위치로 이동이 가능하다면 카운트 증가\n",
    "    if next_row >= 1 and next_row <= 8 and next_column >= 1 and next_column <= 8:\n",
    "        result += 1\n",
    "\n",
    "print(result)"
   ]
  },
  {
   "cell_type": "markdown",
   "metadata": {},
   "source": [
    "---"
   ]
  },
  {
   "cell_type": "markdown",
   "metadata": {},
   "source": [
    "### report\n",
    "\n",
    "\n",
    "- 방향 벡터를 dx,dy 가 아닌 **튜플형 리스트** 로 정의 \n",
    "\n",
    "\n",
    "- `ord()` `int()` ascii\n",
    "\n",
    "\n",
    "- 스텝을 확인하는 과정을 리스트에서 꺼내는 과정 `for in : ` 통해 처리\n",
    "\n",
    "\n",
    "- *2차원 공간에서 벗어나는지*, *현재 위치에서 해당 위치로 이동이 가능한지* 확인"
   ]
  },
  {
   "cell_type": "markdown",
   "metadata": {},
   "source": [
    "---"
   ]
  },
  {
   "cell_type": "markdown",
   "metadata": {},
   "source": [
    "##  <문제> 문자열 재정렬\n",
    "\n",
    "\n",
    "- 15강 구현 유형 문제 풀이\n",
    "\n",
    "알파벳 대문자와 1의자리 숫자 로만 구성된 문자열 입력으로,\n",
    "\n",
    "모든 알파벳은 오름차순으로 정렬,\n",
    "\n",
    "문자 뒤에 모든 숫자들을 더한 값을 출력\n"
   ]
  },
  {
   "cell_type": "markdown",
   "metadata": {},
   "source": [
    "---"
   ]
  },
  {
   "cell_type": "markdown",
   "metadata": {},
   "source": [
    "### 해결 아이디어 - 문자열 재정렬\n",
    "\n",
    "- 별도의 리스트 선언"
   ]
  },
  {
   "cell_type": "markdown",
   "metadata": {},
   "source": [
    "---"
   ]
  },
  {
   "cell_type": "code",
   "execution_count": 10,
   "metadata": {},
   "outputs": [
    {
     "name": "stdout",
     "output_type": "stream",
     "text": [
      "AKBK1S5\n",
      "ABKKS6\n"
     ]
    }
   ],
   "source": [
    "data = input()\n",
    "result = []\n",
    "value = 0\n",
    "\n",
    "# 문자를 하나씩 확인하며\n",
    "\n",
    "for x in data:\n",
    "    \n",
    "    # 알파벳인 경우 결과 리스트에 삽입\n",
    "    if x.isalpha():\n",
    "        result.append(x)\n",
    "    \n",
    "    # 숫자는 따로 더하기\n",
    "    else:\n",
    "        value += int(x)\n",
    "\n",
    "# 알파벳을 오름차순으로 정렬\n",
    "result.sort()\n",
    "\n",
    "# 숫자가 하나라도 존재하는 경우 가장 뒤에 삽입\n",
    "if value != 0:\n",
    "    result.append(str(value))\n",
    "\n",
    "# 최종 결과 출력(리스트를 문자열로 변환하여 출력)\n",
    "print(''.join(result))"
   ]
  },
  {
   "cell_type": "markdown",
   "metadata": {},
   "source": [
    "---"
   ]
  },
  {
   "cell_type": "markdown",
   "metadata": {},
   "source": [
    "### report\n",
    "\n",
    "- 숫자를 맨 뒤에 삽입 할 떄, 숫자가 존재하는 경우와 숫자가 존재하지 않는 경우가 있음\n",
    "\n",
    "\n",
    "- 이를 `if != 0 : ` 조건문으로 처리하여, *숫자가 하나라도 존재하는 경우* 삽입하는 것으로 처리\n",
    "\n",
    "\n",
    "- 알파벳과 숫자 분리 `x.isalpha()` 메서드로 처리, *알파벳이 아닌경우는 숫자이므로* `else : ` 처리"
   ]
  },
  {
   "cell_type": "markdown",
   "metadata": {},
   "source": [
    "---"
   ]
  }
 ],
 "metadata": {
  "hide_input": false,
  "kernelspec": {
   "display_name": "Python 3",
   "language": "python",
   "name": "python3"
  },
  "language_info": {
   "codemirror_mode": {
    "name": "ipython",
    "version": 3
   },
   "file_extension": ".py",
   "mimetype": "text/x-python",
   "name": "python",
   "nbconvert_exporter": "python",
   "pygments_lexer": "ipython3",
   "version": "3.8.5"
  },
  "toc": {
   "base_numbering": 1,
   "nav_menu": {},
   "number_sections": true,
   "sideBar": true,
   "skip_h1_title": false,
   "title_cell": "Table of Contents",
   "title_sidebar": "Contents",
   "toc_cell": false,
   "toc_position": {
    "height": "654.7825927734375px",
    "left": "73px",
    "top": "184.4483642578125px",
    "width": "203.80435180664062px"
   },
   "toc_section_display": true,
   "toc_window_display": true
  }
 },
 "nbformat": 4,
 "nbformat_minor": 4
}
