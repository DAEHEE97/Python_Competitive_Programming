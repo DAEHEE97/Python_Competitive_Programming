{
 "cells": [
  {
   "cell_type": "markdown",
   "metadata": {},
   "source": [
    "# Greedy Algorithm (그리디 알고리즘)\n",
    "\n",
    "- https://www.youtube.com/watch?v=2zjoKjt97vQ&list=PLRx0vPvlEmdAghTr5mXQxGpHjWqSz0dgC&index=2"
   ]
  },
  {
   "cell_type": "markdown",
   "metadata": {},
   "source": [
    "---"
   ]
  },
  {
   "cell_type": "markdown",
   "metadata": {},
   "source": [
    "## Greedy (그리디)\n",
    "\n",
    "- 현재 상황에서 지금 당장 좋은 것만 고르는 방법\n",
    "\n",
    "\n",
    "- 알고리즘 문제를 풀기 위한 최소한의 아이디어를 떠올릴 수 있는 능력 요구\n",
    "\n",
    "\n",
    "- 정당성 분석 중요 \n",
    "    - **단순히 가장 좋아 보이는 것을 반복적으로 선택해도 최적의 해를 구할 수 있는지 검토 필요**\n",
    "    \n",
    "   "
   ]
  },
  {
   "cell_type": "markdown",
   "metadata": {},
   "source": [
    "### Greedy (그리디) vs Optimal (최적의 해)\n",
    "\n",
    "Ex) 루트 노드부터 시작하여 거쳐 가는 노드 값의 합을 최대\n",
    "\n",
    "- 단순히 매 상황에서 가장 큰 값만 고른 해 (그리디)\n",
    "\n",
    "- 최적의 해\n",
    "\n",
    "\n",
    "일반적인 상황에서 그리디 알고리즘은 최적의 해를 보장할 수 없을 때가 많습니다.\n",
    "\n",
    "\n",
    "- **코딩 테스트에서의 그리디 문제는 그리디 알고리즘으로 얻은 해 가 최적의 해가 되는 상황으로, 이를 추론 할 수 있어야 합니다.**\n"
   ]
  },
  {
   "cell_type": "markdown",
   "metadata": {},
   "source": [
    "---"
   ]
  },
  {
   "cell_type": "markdown",
   "metadata": {},
   "source": [
    "## 큰 수의 법칙"
   ]
  },
  {
   "cell_type": "markdown",
   "metadata": {},
   "source": [
    "---"
   ]
  },
  {
   "cell_type": "markdown",
   "metadata": {},
   "source": [
    "## <문제> 거스름 돈\n",
    "\n",
    "손님에게 거슬러 주어야 할 돈 N원일 떄, 거슬러 주어야 할 동전의 최소 개수를 구하시오.(단 거슬러 줘야 할 돈 N은 10의 배수 입니다.)\n"
   ]
  },
  {
   "cell_type": "markdown",
   "metadata": {},
   "source": [
    "---"
   ]
  },
  {
   "cell_type": "markdown",
   "metadata": {},
   "source": [
    "### 해결 아이디어 - 거스름돈\n",
    "\n",
    "- 최적의 해를 빠르게 구하기 위해서는 **가장 큰 화폐 단위부터** 돈을 거슬러 주면 됩니다.\n",
    "\n",
    "- 500,100,50,10원 짜리 동전을 차례대로 거슬러 주면 됨"
   ]
  },
  {
   "cell_type": "markdown",
   "metadata": {},
   "source": [
    "---"
   ]
  },
  {
   "cell_type": "markdown",
   "metadata": {},
   "source": [
    "### 정당성 분석\n",
    "\n",
    "- 가지고 있는 동전 중에서 **큰 단위가 항상 작은 단위의 배수이므로, 작은 단위의 동전들 여러개를 종합해 큰 단위의 동전 하나를 구성**할 수 있기 떄문 입니다.\n",
    "    \n",
    "\n",
    "\n",
    "Ex) 800원을 거슬러 주어야 할때 화폐 단위가 500원, 400원, 100원 이라면,\n",
    "\n",
    "- 그리디 :  500,100,100,100\n",
    "\n",
    "- 최적 : 400, 400\n",
    "\n",
    "500원 짜리가 400의 배수가아니므로 그리디 알고리즘으로 최적의 해를 구할수 없습니다.\n",
    "\n",
    "\n",
    "- 이처럼 다양한 방법들(랜덤,최소,최대)을 생각 후, 그리디 알고리즘(현재 최대부터) 아이디어 를 떠올리고, **그리디 알고리즘으로 구현한 해가. 최적의 해 로써 정당한지 검토해야 합니다.**\n",
    "\n"
   ]
  },
  {
   "cell_type": "markdown",
   "metadata": {},
   "source": [
    "---"
   ]
  },
  {
   "cell_type": "code",
   "execution_count": 8,
   "metadata": {},
   "outputs": [
    {
     "name": "stdout",
     "output_type": "stream",
     "text": [
      "1260\n",
      "6\n"
     ]
    }
   ],
   "source": [
    "lst_coin = [50, 100, 500, 10]\n",
    "\n",
    "lst_coin.sort(reverse = True)\n",
    "\n",
    "\n",
    "N = int(input())\n",
    "\n",
    "cnt = 0\n",
    "\n",
    "for i in lst_coin:\n",
    "    c,N = divmod(N,i)\n",
    "    cnt += c\n",
    "    \n",
    "print(cnt)\n",
    "\n"
   ]
  },
  {
   "cell_type": "markdown",
   "metadata": {},
   "source": [
    "---"
   ]
  },
  {
   "cell_type": "code",
   "execution_count": 11,
   "metadata": {},
   "outputs": [
    {
     "name": "stdout",
     "output_type": "stream",
     "text": [
      "500원 짜리 2 개, 나머지 돈 260 원 \n"
     ]
    }
   ],
   "source": [
    "print(\"500원 짜리 {0} 개, 나머지 돈 {1} 원 \".format(1260 // 500, 1260 % 500))"
   ]
  },
  {
   "cell_type": "markdown",
   "metadata": {},
   "source": [
    "---"
   ]
  },
  {
   "cell_type": "code",
   "execution_count": 10,
   "metadata": {},
   "outputs": [
    {
     "name": "stdout",
     "output_type": "stream",
     "text": [
      "6\n"
     ]
    }
   ],
   "source": [
    "# 큰 단위의 화폐부터 차례대로 확인하기\n",
    "\n",
    "coin_types = [50, 100, 500, 10]\n",
    "\n",
    "\n",
    "coin_types.sort(reverse=True)\n",
    "\n",
    "\n",
    "n = 1260\n",
    "\n",
    "count = 0\n",
    "\n",
    "for coin in coin_types:\n",
    "    \n",
    "    count = count + (n // coin) # 큰 화폐 부터 몫 카운트 사용한 동전 개수\n",
    "\n",
    "    n = n % coin # 나머지 돈 계산 \n",
    "\n",
    "print(count)\n"
   ]
  },
  {
   "cell_type": "markdown",
   "metadata": {},
   "source": [
    "---"
   ]
  },
  {
   "cell_type": "markdown",
   "metadata": {},
   "source": [
    "### 시간 복잡도 분석 - 거스름 돈\n",
    "\n",
    "- 화폐의 종류가 K라고 할 때, 화페의 종류 만큼만 반복하면 되므로, 소스 코드의 시간 복잡도는 $O(K)$ 입니다.\n",
    "\n",
    "\n",
    "- 이 알고리즘의 시간 복잡도는 거슬러줘야 하는 금액과 는 무관하며, 동전의 총 종류에만 영향을 받습니다."
   ]
  },
  {
   "cell_type": "markdown",
   "metadata": {},
   "source": [
    "---"
   ]
  },
  {
   "cell_type": "markdown",
   "metadata": {},
   "source": [
    "### report\n",
    "\n",
    "\n",
    "``count = count + (n // coin) `` : // 몫 결과 값(사용한 동전 개수)을 count\n",
    "\n",
    "\n",
    "\n",
    "``n = n % coin`` : 몫 연산 이후 나머지 값을 % 나머지 연산 으로 처리\n",
    "\n"
   ]
  },
  {
   "cell_type": "markdown",
   "metadata": {},
   "source": [
    "---"
   ]
  },
  {
   "cell_type": "markdown",
   "metadata": {},
   "source": [
    "##  <문제> 1이 될 때 까지\n",
    "\n",
    "- 13강 그리디 알고리즘 유형 문제 풀이\n",
    "\n",
    "\n",
    "\n",
    "- 어떠한 수 N이 1이 될 때까지 두 가지 과정중 하나를 선택해서 수헹\n",
    "\n",
    "    1. n에서 1을 뺍니다.\n",
    "    2. n을 k로 나눕니다."
   ]
  },
  {
   "cell_type": "markdown",
   "metadata": {},
   "source": [
    "---"
   ]
  },
  {
   "cell_type": "markdown",
   "metadata": {},
   "source": [
    "### 해결 아이디어 - 1이 될 때 까지\n",
    "\n",
    "- 주어진 N에 대하여 **최대한 많이 나누기**를 수행해야 합니다.\n",
    "\n",
    "\n",
    "- N의 값을 줄일 때 **2 이상의 수로 나누는 작업**이 1을 빼는 작업보다 N을 많이 줄일수 있습니다."
   ]
  },
  {
   "cell_type": "markdown",
   "metadata": {},
   "source": [
    "---"
   ]
  },
  {
   "cell_type": "markdown",
   "metadata": {},
   "source": [
    "### 정당성 분석 - 1이 될 때 까지\n",
    "\n",
    "- **가능하면 K값으로 최대한 많이 나누는 작업**은 K가 2 이상이기만 한다면, 1을  빼는 것 보다 항상 빠르게 N을 줄일 수 있습니다.\n",
    "\n",
    "\n",
    "- **K값으로 N을 나누는 작업은 -1을 하는것과 마찬가지로 항상 1에 도달하게 하므로**, 최적의 해가 성립됨을 보장할 수 있습니다."
   ]
  },
  {
   "cell_type": "markdown",
   "metadata": {},
   "source": [
    "---"
   ]
  },
  {
   "cell_type": "code",
   "execution_count": 15,
   "metadata": {},
   "outputs": [
    {
     "data": {
      "text/plain": [
       "True"
      ]
     },
     "execution_count": 15,
     "metadata": {},
     "output_type": "execute_result"
    }
   ],
   "source": [
    "16 / 4 == 16 // 4"
   ]
  },
  {
   "cell_type": "code",
   "execution_count": 16,
   "metadata": {},
   "outputs": [
    {
     "data": {
      "text/plain": [
       "False"
      ]
     },
     "execution_count": 16,
     "metadata": {},
     "output_type": "execute_result"
    }
   ],
   "source": [
    "17 / 4 == 17 // 4"
   ]
  },
  {
   "cell_type": "code",
   "execution_count": 23,
   "metadata": {},
   "outputs": [
    {
     "name": "stdout",
     "output_type": "stream",
     "text": [
      "25 3\n",
      "6\n"
     ]
    }
   ],
   "source": [
    "N,K = map(int,input().split())\n",
    "\n",
    "cnt = 0\n",
    "\n",
    "# N 이 1이 되면, break\n",
    "\n",
    "while(N != 1):\n",
    "    \n",
    "    if ( N / K == N // K ):\n",
    "        N = N / K\n",
    "        cnt += 1\n",
    "    else:\n",
    "        N = N - 1\n",
    "        cnt += 1\n",
    "\n",
    "\n",
    "print(cnt)"
   ]
  },
  {
   "cell_type": "markdown",
   "metadata": {},
   "source": [
    "---"
   ]
  },
  {
   "cell_type": "markdown",
   "metadata": {},
   "source": [
    "### report\n",
    "\n",
    "\n",
    "- 연산 수행횟수 를 최소한으로 줄이기 위해서는 나누기 연산을 우선적으로 해야함.\n",
    "\n",
    "\n",
    "- 나누기 몫 연산을 하기 위해서는 반드시 배수가 되어야 하는데, 나누어 떨어지지 않는다면 우선 - 1 빼기를 진행.\n",
    "\n",
    "\n",
    "- 1순위 연산(나누기)을 최대한 많이 하기 위해서, 계속해서 1순위 연산을 무한 반복 수행하며, 수행되지 않게 된다면 `while break`\n",
    "\n",
    "\n",
    "- ``result = result + (n - 1)`` : 어떠한 n값이 target 값이 될때 까지 (3이 1이 될때 까지) 어떠한 연산을 진행 할 때, 카운트를 반복문으로 카운트 하는것이 아니라 마이너스 연산을 통해 카운트 "
   ]
  },
  {
   "cell_type": "markdown",
   "metadata": {},
   "source": [
    "---"
   ]
  },
  {
   "cell_type": "markdown",
   "metadata": {},
   "source": [
    "##  <문제> 곱하기 혹은 더하기\n",
    "\n",
    "\n",
    "각 자리가 숫자 (0부터 9)로만 이루어진 문자열 S가 주어졌을 때,\n",
    "\n",
    "왼쪽부터 오른쪽으로 하나씩 모든 숫자를 확인하며, \n",
    "\n",
    "숫자 사이에 'x' 혹은 '+'연산자를 넣어 결과적으로 만들어질 수 있는 가장 큰 수를 구하는 프로그램을 작성\n",
    "\n",
    "( 단 + 보다 x 연산을 먼저 계산하는 일방적인 방식과는 달리, 모든 연산은 왼쪽에서 부터 순서대로 이루어 집니다. )\n"
   ]
  },
  {
   "cell_type": "markdown",
   "metadata": {},
   "source": [
    "---"
   ]
  },
  {
   "cell_type": "markdown",
   "metadata": {},
   "source": [
    "### 해결 아이디어 - 곱하기 혹은 더하기\n",
    "\n",
    "- 대부분의 경우 `*` 연산 이 `+` 연산보다 결과 값을 크게 함\n",
    "\n",
    "\n",
    "- 다만 주어진 수 중에서 '0' 과 '1'일 경우, 곱하기 보다는 더하기 연산\n",
    "\n",
    "\n",
    "- 따라서 두 수에 대하여 연산을 수행할 때, **두 수 중에서 하나라도 1 이하인 경우 더하기 수행, 모두 2이상인 경우에는 곱하기**"
   ]
  },
  {
   "cell_type": "markdown",
   "metadata": {},
   "source": [
    "---"
   ]
  },
  {
   "cell_type": "markdown",
   "metadata": {},
   "source": [
    "### MEMO\n",
    "1. 0이면 더한다.\n",
    "\n",
    "2. 1이면 더한다.\n",
    "\n",
    "3. 근데 result가 0이여도 그냥 더해야 됨\n",
    "\n",
    "4. 기존 result가 1이여도 그냥 더해야 됨\n"
   ]
  },
  {
   "cell_type": "code",
   "execution_count": 45,
   "metadata": {},
   "outputs": [
    {
     "name": "stdout",
     "output_type": "stream",
     "text": [
      "01040139737\n",
      "23814\n"
     ]
    }
   ],
   "source": [
    "string = input()\n",
    "\n",
    "result = 0\n",
    "\n",
    "for i in string:\n",
    "    \n",
    "    i = int(i)\n",
    "    \n",
    "    # num 뿐 만 아니라, result 도 조건 검사 수행해야 함.\n",
    "    if ( i == 0 or i == 1 or result == 0 or result == 1):\n",
    "        result += i\n",
    "    else:\n",
    "        result *= i\n",
    "\n",
    "print(result)"
   ]
  },
  {
   "cell_type": "markdown",
   "metadata": {},
   "source": [
    "---"
   ]
  },
  {
   "cell_type": "markdown",
   "metadata": {},
   "source": [
    "## <문제> 모험가 길드\n",
    "\n",
    "! 문제에서 안 데려가도 됨\n",
    "\n",
    "\n",
    "N 인원수 5\n",
    "\n",
    "공포도 2 3 1 2 2\n",
    "\n",
    "공포도가 3인 저새끼 데려가려면 \n",
    "\n",
    "3 2 2 / 1 // 2\n",
    "\n",
    "2 2 / 1 // 3\n",
    "\n",
    "2 2 / 2 1\n",
    "\n",
    "\n",
    "1 2 2 2 3\n",
    "\n",
    "\n",
    "\n",
    "그룹을 최소인 1 인 친구 를 보내는게 제일 좋다고 생각\n",
    "\n",
    "그룹이 최대인 얘를 데려가야 함?\n",
    "\n",
    "\n",
    "\n",
    "\n",
    "공포도가 X인 모험가는 반드시 X명 이상 으로 구성한 모험가 그룹에 참여해야 여행을 떠날 수 있다.\n",
    "\n",
    "여행을 떠날 수 있는 그룹 수의 최대값을 구하는 프로그램 작성\n",
    "\n",
    "\n",
    "\n"
   ]
  },
  {
   "cell_type": "markdown",
   "metadata": {},
   "source": [
    "### 해결 아이디어 - 모험가 길드\n",
    "\n",
    "- 앞에서 부터 공포도를 하니씩 확인하여, \n",
    "\n",
    "\n",
    "- **'현재 그룹에 포함된 모험가의 수'가 '현재 확인하고 있는 공포도' 보다 크거나 같다면 이를 그룹으로 설정**"
   ]
  },
  {
   "cell_type": "code",
   "execution_count": 23,
   "metadata": {},
   "outputs": [
    {
     "name": "stdout",
     "output_type": "stream",
     "text": [
      "5\n",
      "2 3 1 4 4\n",
      "2\n"
     ]
    }
   ],
   "source": [
    "n = int(input())\n",
    "\n",
    "# 모험가들의 공포도 수치 리스트\n",
    "data = list(map(int, input().split()))\n",
    "data.sort() \n",
    "\n",
    "# 총 그룹의 수\n",
    "result = 0 \n",
    "\n",
    "# 현재 그룹에 포함된 모험가의 수\n",
    "count = 0 \n",
    "\n",
    "for i in data: # 공포도를 낮은 것부터 하나씩 확인하며\n",
    "    \n",
    "    count += 1 # 현재 그룹에 해당 모험가를 포함시키기\n",
    "    \n",
    "    if count >= i: # '현재 그룹에 포함된 모험가의 수' 가 '현재의 공포도' 이상이라면, 그룹 결성\n",
    "        result += 1 # 총 그룹의 수 증가시키기\n",
    "        \n",
    "        count = 0 # 현재 그룹에 포함된 모험가의 수 초기화\n",
    "\n",
    "print(result) # 총 그룹의 수 출력"
   ]
  },
  {
   "cell_type": "code",
   "execution_count": 25,
   "metadata": {},
   "outputs": [
    {
     "name": "stdout",
     "output_type": "stream",
     "text": [
      "1 2 3\n",
      "1 2 3\n"
     ]
    }
   ],
   "source": [
    "data1 = list(map(int, input().split()))\n",
    "\n",
    "data2 = [(map(int, input().split()))]"
   ]
  },
  {
   "cell_type": "code",
   "execution_count": 29,
   "metadata": {},
   "outputs": [
    {
     "name": "stdout",
     "output_type": "stream",
     "text": [
      "[1, 2, 3] [<map object at 0x7fa0b876c550>]\n"
     ]
    }
   ],
   "source": [
    "print(data1,data2)"
   ]
  },
  {
   "cell_type": "markdown",
   "metadata": {},
   "source": [
    "### report \n",
    "\n",
    "```\n",
    "for i in data: \n",
    "    count += 1 \n",
    "    \n",
    "``` \n",
    "\n",
    "-  `count += 1` : (현재 그룹에 포함시킨다.) + (인원수 +1 한다.) 를 모두 적용\n",
    "    - data 리스트에서 값을 하나씩 꺼내서 확인하는데, 변수 지정 없이, 해당 data 리스트에 주인을 포함, 단순 +1로 카운트\n",
    "\n",
    "\n",
    "- ` count = 0 ` : for 문 내에서 초기화"
   ]
  },
  {
   "cell_type": "markdown",
   "metadata": {},
   "source": [
    "---"
   ]
  },
  {
   "cell_type": "markdown",
   "metadata": {},
   "source": [
    "---"
   ]
  }
 ],
 "metadata": {
  "hide_input": false,
  "kernelspec": {
   "display_name": "Python 3",
   "language": "python",
   "name": "python3"
  },
  "language_info": {
   "codemirror_mode": {
    "name": "ipython",
    "version": 3
   },
   "file_extension": ".py",
   "mimetype": "text/x-python",
   "name": "python",
   "nbconvert_exporter": "python",
   "pygments_lexer": "ipython3",
   "version": "3.8.5"
  },
  "toc": {
   "base_numbering": 1,
   "nav_menu": {},
   "number_sections": true,
   "sideBar": true,
   "skip_h1_title": false,
   "title_cell": "Table of Contents",
   "title_sidebar": "Contents",
   "toc_cell": false,
   "toc_position": {
    "height": "654.7825927734375px",
    "left": "73px",
    "top": "184.4483642578125px",
    "width": "203.80435180664062px"
   },
   "toc_section_display": true,
   "toc_window_display": true
  }
 },
 "nbformat": 4,
 "nbformat_minor": 4
}
